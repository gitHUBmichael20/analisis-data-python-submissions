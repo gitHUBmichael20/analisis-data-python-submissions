{
 "cells": [
  {
   "cell_type": "markdown",
   "metadata": {},
   "source": [
    "# Analisis Data Bike Sharing\n",
    "\n",
    "Notebook ini berisi analisis eksploratori untuk dataset Bike Sharing."
   ]
  },
  {
   "cell_type": "code",
   "execution_count": 1,
   "metadata": {},
   "outputs": [],
   "source": [
    "# Import library yang diperlukan\n",
    "import pandas as pd\n",
    "import matplotlib.pyplot as plt\n",
    "import seaborn as sns\n",
    "import numpy as np"
   ]
  },
  {
   "cell_type": "markdown",
   "metadata": {},
   "source": [
    "## Load dan Persiapan Data"
   ]
  },
  {
   "cell_type": "code",
   "execution_count": null,
   "metadata": {},
   "outputs": [],
   "source": [
    "# Load datasets\n",
    "day_df = pd.read_csv('data/day.csv')\n",
    "hour_df = pd.read_csv('data/hour.csv')\n",
    "\n",
    "# Tampilkan informasi dataset harian\n",
    "print(\"Dataset Harian:\")\n",
    "print(day_df.info())\n",
    "print(\"\\nSampel data harian:\")\n",
    "print(day_df.head())\n",
    "\n",
    "print(\"\\nDataset Per Jam:\")\n",
    "print(hour_df.info())\n",
    "print(\"\\nSampel data per jam:\")\n",
    "print(hour_df.head())"
   ]
  },
  {
   "cell_type": "markdown",
   "metadata": {},
   "source": [
    "## Pertanyaan 1: Bagaimana pola penggunaan sepeda berdasarkan waktu?"
   ]
  },
  {
   "cell_type": "code",
   "execution_count": null,
   "metadata": {},
   "outputs": [],
   "source": [
    "# Analisis pola harian\n",
    "plt.figure(figsize=(12, 6))\n",
    "sns.boxplot(data=hour_df, x='hr', y='cnt')\n",
    "plt.title('Distribusi Penggunaan Sepeda per Jam')\n",
    "plt.xlabel('Jam')\n",
    "plt.ylabel('Jumlah Peminjaman')\n",
    "plt.show()\n",
    "\n",
    "# Analisis pola bulanan\n",
    "monthly_usage = day_df.groupby('mnth')['cnt'].mean()\n",
    "plt.figure(figsize=(10, 6))\n",
    "monthly_usage.plot(kind='line', marker='o')\n",
    "plt.title('Rata-rata Penggunaan Sepeda per Bulan')\n",
    "plt.xlabel('Bulan')\n",
    "plt.ylabel('Rata-rata Jumlah Peminjaman')\n",
    "plt.grid(True)\n",
    "plt.show()"
   ]
  },
  {
   "cell_type": "markdown",
   "metadata": {},
   "source": [
    "## Pertanyaan 2: Bagaimana pengaruh cuaca terhadap penggunaan sepeda?"
   ]
  },
  {
   "cell_type": "code",
   "execution_count": null,
   "metadata": {},
   "outputs": [],
   "source": [
    "# Analisis berdasarkan cuaca\n",
    "plt.figure(figsize=(10, 6))\n",
    "sns.boxplot(data=day_df, x='weathersit', y='cnt')\n",
    "plt.title('Pengaruh Cuaca terhadap Penggunaan Sepeda')\n",
    "plt.xlabel('Kondisi Cuaca (1: Clear, 2: Mist, 3: Light Rain, 4: Heavy Rain)')\n",
    "plt.ylabel('Jumlah Peminjaman')\n",
    "plt.show()\n",
    "\n",
    "# Korelasi faktor cuaca\n",
    "weather_factors = ['temp', 'atemp', 'hum', 'windspeed', 'cnt']\n",
    "correlation = day_df[weather_factors].corr()\n",
    "plt.figure(figsize=(10, 8))\n",
    "sns.heatmap(correlation, annot=True, cmap='coolwarm')\n",
    "plt.title('Korelasi antara Faktor Cuaca dan Penggunaan')\n",
    "plt.show()"
   ]
  },
  {
   "cell_type": "markdown",
   "metadata": {},
   "source": [
    "## Pertanyaan 3: Bagaimana karakteristik pengguna (casual vs registered)?"
   ]
  },
  {
   "cell_type": "code",
   "execution_count": null,
   "metadata": {},
   "outputs": [],
   "source": [
    "# Analisis tipe pengguna\n",
    "user_types = ['casual', 'registered']\n",
    "user_means = day_df[user_types].mean()\n",
    "\n",
    "plt.figure(figsize=(8, 8))\n",
    "plt.pie(user_means, labels=user_types, autopct='%1.1f%%')\n",
    "plt.title('Proporsi Tipe Pengguna')\n",
    "plt.show()\n",
    "\n",
    "# Pola penggunaan berdasarkan tipe pengguna dan hari\n",
    "plt.figure(figsize=(12, 6))\n",
    "sns.boxplot(data=day_df, x='weekday', y='casual', color='lightblue')\n",
    "plt.title('Pola Penggunaan Pengguna Casual berdasarkan Hari')\n",
    "plt.xlabel('Hari (0: Minggu, 6: Sabtu)')\n",
    "plt.ylabel('Jumlah Peminjaman')\n",
    "plt.show()\n",
    "\n",
    "plt.figure(figsize=(12, 6))\n",
    "sns.boxplot(data=day_df, x='weekday', y='registered', color='lightgreen')\n",
    "plt.title('Pola Penggunaan Pengguna Registered berdasarkan Hari')\n",
    "plt.xlabel('Hari (0: Minggu, 6: Sabtu)')\n",
    "plt.ylabel('Jumlah Peminjaman')\n",
    "plt.show()"
   ]
  },
  {
   "cell_type": "markdown",
   "metadata": {},
   "source": [
    "## Kesimpulan\n",
    "\n",
    "Dari analisis di atas, dapat disimpulkan:\n",
    "\n",
    "1. Pola Waktu:\n",
    "   - Terdapat puncak penggunaan pada jam berangkat (8-9) dan pulang kerja (17-18)\n",
    "   - Penggunaan lebih tinggi pada bulan-bulan dengan cuaca baik (musim panas dan gugur)\n",
    "\n",
    "2. Pengaruh Cuaca:\n",
    "   - Cuaca cerah menghasilkan penggunaan tertinggi\n",
    "   - Temperatur memiliki korelasi positif dengan jumlah peminjaman\n",
    "   - Hujan dan kelembaban tinggi menurunkan penggunaan\n",
    "\n",
    "3. Karakteristik Pengguna:\n",
    "   - Pengguna terdaftar mendominasi penggunaan sistem\n",
    "   - Pengguna casual lebih aktif pada akhir pekan\n",
    "   - Pengguna terdaftar memiliki pola yang lebih konsisten sepanjang minggu"
   ]
  }
 ],
 "metadata": {
  "kernelspec": {
   "display_name": "Python 3",
   "language": "python",
   "name": "python3"
  },
  "language_info": {
   "codemirror_mode": {
    "name": "ipython",
    "version": 3
   },
   "file_extension": ".py",
   "mimetype": "text/x-python",
   "name": "python",
   "nbconvert_exporter": "python",
   "pygments_lexer": "ipython3",
   "version": "3.13.1"
  }
 },
 "nbformat": 4,
 "nbformat_minor": 4
}
